{
  "nbformat": 4,
  "nbformat_minor": 0,
  "metadata": {
    "colab": {
      "provenance": [],
      "collapsed_sections": [],
      "mount_file_id": "1yKLw4RQBWbKkd4FMNWlR1-_1bSx5k7It",
      "authorship_tag": "ABX9TyP5Mw6M6z+a7Kc2o/lLc5fD",
      "include_colab_link": true
    },
    "kernelspec": {
      "name": "python3",
      "display_name": "Python 3"
    },
    "language_info": {
      "name": "python"
    },
    "gpuClass": "standard",
    "accelerator": "GPU"
  },
  "cells": [
    {
      "cell_type": "markdown",
      "metadata": {
        "id": "view-in-github",
        "colab_type": "text"
      },
      "source": [
        "<a href=\"https://colab.research.google.com/github/4rn3/ai_howest_project-/blob/main/yolov7_bloodcell_detection_fine_tuning.ipynb\" target=\"_parent\"><img src=\"https://colab.research.google.com/assets/colab-badge.svg\" alt=\"Open In Colab\"/></a>"
      ]
    },
    {
      "cell_type": "code",
      "execution_count": null,
      "metadata": {
        "id": "Abj9yKsRKX0a"
      },
      "outputs": [],
      "source": [
        "import torch\n",
        "import os, sys, random, shutil\n",
        "import xml.etree.ElementTree as ET\n",
        "from glob import glob\n",
        "import pandas as pd\n",
        "from shutil import copyfile\n",
        "import pandas as pd\n",
        "from sklearn import preprocessing, model_selection\n",
        "import matplotlib.pyplot as plt\n",
        "%matplotlib inline\n",
        "from matplotlib import patches\n",
        "import numpy as np\n",
        "print(f\"Python version: {sys.version}, {sys.version_info} \")\n",
        "print(f\"Pytorch version: {torch.__version__} \")"
      ]
    },
    {
      "cell_type": "markdown",
      "source": [
        "### Importing dataset"
      ],
      "metadata": {
        "id": "CKSOY_DmU8nW"
      }
    },
    {
      "cell_type": "code",
      "source": [
        "!git clone 'https://github.com/Shenggan/BCCD_Dataset.git'"
      ],
      "metadata": {
        "id": "cnY_J9foUetk"
      },
      "execution_count": null,
      "outputs": []
    },
    {
      "cell_type": "markdown",
      "source": [
        "### data preprocessing"
      ],
      "metadata": {
        "id": "mDxGxtisVRGb"
      }
    },
    {
      "cell_type": "code",
      "source": [
        "annotations = sorted(glob('/content/BCCD_Dataset/BCCD/Annotations/*.xml'))\n",
        "\n",
        "df = []\n",
        "cnt = 0\n",
        "for file in annotations:\n",
        "  prev_filename = file.split('/')[-1].split('.')[0] + '.jpg'\n",
        "  filename = str(cnt) + '.jpg'\n",
        "  row = []\n",
        "  parsedXML = ET.parse(file)\n",
        "  for node in parsedXML.getroot().iter('object'):\n",
        "    blood_cells = node.find('name').text\n",
        "    xmin = int(node.find('bndbox/xmin').text)\n",
        "    xmax = int(node.find('bndbox/xmax').text)\n",
        "    ymin = int(node.find('bndbox/ymin').text)\n",
        "    ymax = int(node.find('bndbox/ymax').text)\n",
        "\n",
        "    row = [prev_filename, filename, blood_cells, xmin, xmax, ymin, ymax]\n",
        "    df.append(row)\n",
        "  cnt += 1\n",
        "\n",
        "data = pd.DataFrame(df, columns=['prev_filename', 'filename', 'cell_type', 'xmin', 'xmax', 'ymin', 'ymax'])\n",
        "data[['prev_filename','filename', 'cell_type', 'xmin', 'xmax', 'ymin', 'ymax']].to_csv('/content/blood_cell_detection.csv', index=False)\n",
        "data.head(10)"
      ],
      "metadata": {
        "id": "lni-kUZwVCh6"
      },
      "execution_count": null,
      "outputs": []
    },
    {
      "cell_type": "code",
      "source": [
        "img_width = 640\n",
        "img_height = 480\n",
        "\n",
        "def width(df):\n",
        "  return int(df.xmax - df.xmin)\n",
        "def height(df):\n",
        "  return int(df.ymax - df.ymin)\n",
        "def x_center(df):\n",
        "  return int(df.xmin + (df.width/2))\n",
        "def y_center(df):\n",
        "  return int(df.ymin + (df.height/2))\n",
        "def w_norm(df):\n",
        "  return df/img_width\n",
        "def h_norm(df):\n",
        "  return df/img_height\n",
        "\n",
        "df = pd.read_csv('/content/blood_cell_detection.csv')\n",
        "\n",
        "le = preprocessing.LabelEncoder()\n",
        "le.fit(df['cell_type'])\n",
        "print(le.classes_)\n",
        "labels = le.transform(df['cell_type'])\n",
        "df['labels'] = labels\n",
        "\n",
        "df['width'] = df.apply(width, axis=1)\n",
        "df['height'] = df.apply(height, axis=1)\n",
        "\n",
        "df['x_center'] = df.apply(x_center, axis=1)\n",
        "df['y_center'] = df.apply(y_center, axis=1)\n",
        "\n",
        "df['x_center_norm'] = df['x_center'].apply(w_norm)\n",
        "df['width_norm'] = df['width'].apply(w_norm)\n",
        "\n",
        "df['y_center_norm'] = df['y_center'].apply(h_norm)\n",
        "df['height_norm'] = df['height'].apply(h_norm)\n",
        "\n",
        "df.head(30)"
      ],
      "metadata": {
        "id": "1SgFFL4QVPXE"
      },
      "execution_count": null,
      "outputs": []
    },
    {
      "cell_type": "code",
      "source": [
        "df_train, df_valid = model_selection.train_test_split(df, test_size=0.1, random_state=13, shuffle=True)\n",
        "print(df_train.shape, df_valid.shape)\n",
        "\n",
        "os.mkdir('/content/bc/')\n",
        "os.mkdir('/content/bc/images/')\n",
        "os.mkdir('/content/bc/images/train/')\n",
        "os.mkdir('/content/bc/images/valid/')\n",
        "\n",
        "os.mkdir('/content/bc/labels/')\n",
        "os.mkdir('/content/bc/labels/train/')\n",
        "os.mkdir('/content/bc/labels/valid/')\n",
        "\n",
        "def segregate_data(df, img_path, label_path, train_img_path, train_label_path):\n",
        "  filenames = []\n",
        "  for filename in df.filename:\n",
        "    filenames.append(filename)\n",
        "  filenames = set(filenames)\n",
        "  \n",
        "  for filename in filenames:\n",
        "    yolo_list = []\n",
        "\n",
        "    for _,row in df[df.filename == filename].iterrows():\n",
        "      yolo_list.append([row.labels, row.x_center_norm, row.y_center_norm, row.width_norm, row.height_norm])\n",
        "\n",
        "    yolo_list = np.array(yolo_list)\n",
        "    txt_filename = os.path.join(train_label_path,str(row.prev_filename.split('.')[0])+\".txt\")\n",
        "    # Save the .img & .txt files to the corresponding train and validation folders\n",
        "    np.savetxt(txt_filename, yolo_list, fmt=[\"%d\", \"%f\", \"%f\", \"%f\", \"%f\"])\n",
        "    shutil.copyfile(os.path.join(img_path,row.prev_filename), os.path.join(train_img_path,row.prev_filename))\n",
        " \n",
        "## Apply function ## \n",
        "src_img_path = \"/content/BCCD_Dataset/BCCD/JPEGImages/\"\n",
        "src_label_path = \"/content/BCCD_Dataset/BCCD/Annotations/\"\n",
        "\n",
        "train_img_path = \"/content/bc/images/train\"\n",
        "train_label_path = \"/content/bc/labels/train\"\n",
        "\n",
        "valid_img_path = \"/content/bc/images/valid\"\n",
        "valid_label_path = \"/content/bc/labels/valid\"\n",
        "\n",
        "segregate_data(df_train, src_img_path, src_label_path, train_img_path, train_label_path)\n",
        "segregate_data(df_valid, src_img_path, src_label_path, valid_img_path, valid_label_path)\n",
        "\n",
        "print(\"No. of Training images\", len(os.listdir('/content/bc/images/train')))\n",
        "print(\"No. of Training labels\", len(os.listdir('/content/bc/labels/train')))\n",
        "\n",
        "print(\"No. of valid images\", len(os.listdir('/content/bc/images/valid')))\n",
        "print(\"No. of valid labels\", len(os.listdir('/content/bc/labels/valid')))"
      ],
      "metadata": {
        "id": "-mbk96ZiVgDv"
      },
      "execution_count": null,
      "outputs": []
    },
    {
      "cell_type": "markdown",
      "source": [
        "### clone yolov7"
      ],
      "metadata": {
        "id": "CXOltBijVsxz"
      }
    },
    {
      "cell_type": "code",
      "source": [
        "!# Download YOLOv7 code\n",
        "!git clone https://github.com/WongKinYiu/yolov7\n",
        "%cd yolov7"
      ],
      "metadata": {
        "id": "COyM-g8xVsaE"
      },
      "execution_count": null,
      "outputs": []
    },
    {
      "cell_type": "markdown",
      "source": [
        "### Download weights"
      ],
      "metadata": {
        "id": "BtHjSYqiVyG7"
      }
    },
    {
      "cell_type": "code",
      "source": [
        "!# Download trained weights\n",
        "!wget https://github.com/WongKinYiu/yolov7/releases/download/v0.1/yolov7.pt"
      ],
      "metadata": {
        "id": "wRrIv7FAVzxO"
      },
      "execution_count": null,
      "outputs": []
    },
    {
      "cell_type": "markdown",
      "source": [
        "### Install requirements"
      ],
      "metadata": {
        "id": "JcgXEqD8WMri"
      }
    },
    {
      "cell_type": "code",
      "source": [
        "!pip install -qr '/content/yolov7/requirements.txt'"
      ],
      "metadata": {
        "id": "3EnWb6vwWNNc"
      },
      "execution_count": null,
      "outputs": []
    },
    {
      "cell_type": "markdown",
      "source": [
        "### make a custom yaml file\n",
        "<p>The file should have the following content:</p>"
      ],
      "metadata": {
        "id": "zoxkrnoTWYtA"
      }
    },
    {
      "cell_type": "markdown",
      "source": [
        "train: /content/bc/images/train</br>\n",
        "val: /content/bc/images/valid</br>\n",
        "</br>\n",
        "nc: 3</br> \n",
        "names: ['Platelets', 'RBC', 'WBC']"
      ],
      "metadata": {
        "id": "w4nEsOTMW3UJ"
      }
    },
    {
      "cell_type": "code",
      "source": [
        "!echo -e \"train: /content/bc/images/train\\nval: /content/bc/images/valid\\n\\nnc: 3\\nnames: ['Platelets', 'RBC', 'WBC']\" > ./data/bc.yaml"
      ],
      "metadata": {
        "id": "AqvMx_8zXSjB"
      },
      "execution_count": null,
      "outputs": []
    },
    {
      "cell_type": "markdown",
      "source": [
        "### Get the custom model files"
      ],
      "metadata": {
        "id": "wxb9ESfRah8g"
      }
    },
    {
      "cell_type": "code",
      "source": [
        "!wget https://raw.githubusercontent.com/4rn3/yolov7_yaml_file/main/yolov7-bloodcells.yaml -O ./cfg/training/yolo_bloodcell.yaml\n",
        "!wget https://raw.githubusercontent.com/4rn3/yolov7_yaml_file/main/yolov7-tiny-bloodcells.yaml -O ./cfg/training/yolo_bloodcell_tiny.yaml"
      ],
      "metadata": {
        "id": "5mcfxpYEam8d"
      },
      "execution_count": null,
      "outputs": []
    },
    {
      "cell_type": "markdown",
      "source": [
        "### Check if GPU is recognised"
      ],
      "metadata": {
        "id": "UVZ83YRWWEjr"
      }
    },
    {
      "cell_type": "code",
      "source": [
        "!nvidia-smi"
      ],
      "metadata": {
        "id": "QJBOAhwxQ_zX"
      },
      "execution_count": null,
      "outputs": []
    },
    {
      "cell_type": "code",
      "source": [
        "%load_ext tensorboard\n",
        "%tensorboard --logdir runs/"
      ],
      "metadata": {
        "id": "X3baIAAlbovX"
      },
      "execution_count": null,
      "outputs": []
    },
    {
      "cell_type": "markdown",
      "source": [
        "### Training yolov7"
      ],
      "metadata": {
        "id": "WDNkxQ6RhbS1"
      }
    },
    {
      "cell_type": "code",
      "source": [
        "#yolov7-tiny batch-size 8 epochs 100\n",
        "#!python train.py --workers 8 --device 0 --batch-size 8 --data data/bc.yaml --img 640 480 --cfg cfg/training/yolo_bloodcell_tiny.yaml --weights 'yolov7.pt' --name yolov7-bc-tiny-100 --hyp data/hyp.scratch.custom.yaml --epochs 100"
      ],
      "metadata": {
        "id": "Ux-kJwe-RRP_"
      },
      "execution_count": null,
      "outputs": []
    },
    {
      "cell_type": "code",
      "source": [
        "#yolov7-tiny batch-size 8 epochs 300\n",
        "#!python train.py --workers 8 --device 0 --batch-size 8 --data data/bc.yaml --img 640 480 --cfg cfg/training/yolo_bloodcell_tiny.yaml --weights 'yolov7.pt' --name yolov7-bc-tiny-300 --hyp data/hyp.scratch.custom.yaml"
      ],
      "metadata": {
        "id": "TUbAVywM6EwS"
      },
      "execution_count": null,
      "outputs": []
    },
    {
      "cell_type": "code",
      "source": [
        "#yolov7-tiny batch-size 16 epochs 300\n",
        "#!python train.py --workers 8 --device 0 --batch-size 16 --data data/bc.yaml --img 640 480 --cfg cfg/training/yolo_bloodcell_tiny.yaml --weights 'yolov7.pt' --name yolov7-bc-tiny-300-16 --hyp data/hyp.scratch.custom.yaml"
      ],
      "metadata": {
        "id": "yoKIbqiWqVgd"
      },
      "execution_count": null,
      "outputs": []
    },
    {
      "cell_type": "code",
      "source": [
        "#yolov7-normal batch-size 8 epochs 100\n",
        "#!python train.py --workers 8 --device 0 --batch-size 8 --data data/bc.yaml --img 640 480 --cfg cfg/training/yolo_bloodcell.yaml --weights 'yolov7.pt' --name yolov7-bc-normal-100 --hyp data/hyp.scratch.custom.yaml --epochs 100"
      ],
      "metadata": {
        "id": "N6CzD-2-havm"
      },
      "execution_count": null,
      "outputs": []
    },
    {
      "cell_type": "code",
      "source": [
        "#yolov7-normal batch-size 8 epochs 300\n",
        "#!python train.py --workers 8 --device 0 --batch-size 8 --data data/bc.yaml --img 640 480 --cfg cfg/training/yolo_bloodcell.yaml --weights 'yolov7.pt' --name yolov7-bc-normal-300 --hyp data/hyp.scratch.custom.yaml"
      ],
      "metadata": {
        "id": "P98apC3tjqqh"
      },
      "execution_count": null,
      "outputs": []
    },
    {
      "cell_type": "code",
      "source": [
        "#yolov7-normal batch-size 32 epochs 300\n",
        "!python train.py --workers 8 --device 0 --batch-size 32 --data data/bc.yaml --img 640 480 --cfg cfg/training/yolo_bloodcell.yaml --weights 'yolov7.pt' --name yolov7-bc-normal-300-32 --hyp data/hyp.scratch.custom.yaml"
      ],
      "metadata": {
        "id": "912iL1Letpa0"
      },
      "execution_count": null,
      "outputs": []
    },
    {
      "cell_type": "code",
      "source": [
        "#yolov7-extra batch-size 32 epochs 300\n",
        "#!python train.py --workers 8 --device 0 --batch-size 32 --data data/bc.yaml --img 640 480 --cfg cfg/training/yolo_bloodcell.yaml --weights 'yolov7.pt' --name yolov7-bc-extra-300-32 --hyp data/hyp.scratch.custom.yaml"
      ],
      "metadata": {
        "id": "mUNaefBWN94H"
      },
      "execution_count": null,
      "outputs": []
    }
  ]
}
